{
  "nbformat": 4,
  "nbformat_minor": 0,
  "metadata": {
    "colab": {
      "provenance": []
    },
    "kernelspec": {
      "name": "python3",
      "display_name": "Python 3"
    },
    "language_info": {
      "name": "python"
    }
  },
  "cells": [
    {
      "cell_type": "markdown",
      "source": [
        "# **import required library for performing the operation regardin this sale project**"
      ],
      "metadata": {
        "id": "IrKvrF19XCJY"
      }
    },
    {
      "cell_type": "code",
      "execution_count": 1,
      "metadata": {
        "id": "WBDvDnRSWLCz"
      },
      "outputs": [],
      "source": [
        "import numpy as np\n",
        "import pandas as pd\n",
        "import matplotlib\n",
        "import matplotlib.pyplot as plt\n",
        "import seaborn as sns"
      ]
    },
    {
      "cell_type": "markdown",
      "source": [],
      "metadata": {
        "id": "JHL_Pw5zYdFc"
      }
    },
    {
      "cell_type": "markdown",
      "source": [
        "# **Inserting the data that is provided by the sources and quick seeing for the understanding purpose **"
      ],
      "metadata": {
        "id": "Ib60PxZ7YkYO"
      }
    },
    {
      "cell_type": "markdown",
      "source": [],
      "metadata": {
        "id": "btV4dyigayop"
      }
    },
    {
      "cell_type": "code",
      "source": [
        "import pandas as pd\n",
        "import os\n",
        "\n",
        "# Read each CSV file individually\n",
        "cloud_warehouse_data = pd.read_csv(\"/content/Cloud Warehouse Compersion Chart.csv\")\n",
        "europe_sales_data = pd.read_csv(\"/content/Europe Sales Records.csv\")\n",
        "expense_iigf_data = pd.read_csv(\"/content/Expense IIGF.csv\")\n",
        "\n",
        "# Check if the file exists and provide the full path if needed\n",
        "file_path = \"/content/International sale Report.csv\"  # Replace with the correct path if needed\n",
        "if os.path.exists(file_path):\n",
        "    international_sales_data = pd.read_csv(file_path)\n",
        "else:\n",
        "    print(f\"Error: File not found at {file_path}\")\n",
        "    # You might need to download or upload the file to the correct location\n",
        "\n",
        "# Check if the file exists before attempting to read it\n",
        "may_2022_file_path = \"/content/May-2022.csv\"\n",
        "if os.path.exists(may_2022_file_path):\n",
        "    may_2022_data = pd.read_csv(may_2022_file_path)\n",
        "else:\n",
        "    print(f\"Error: File not found at {may_2022_file_path}\")\n",
        "    # Handle the error, e.g., skip the file, raise an exception, or provide a default value\n",
        "\n",
        "\n",
        "# Check if the file exists before attempting to read it\n",
        "p_l_march_2021_file_path = \"/content/P  L March 2021.csv\"  # Replace with the correct path if needed\n",
        "if os.path.exists(p_l_march_2021_file_path):\n",
        "    p_l_march_2021_data = pd.read_csv(p_l_march_2021_file_path)\n",
        "else:\n",
        "    print(f\"Error: File not found at {p_l_march_2021_file_path}\")\n",
        "    # Handle the error, e.g., skip the file, raise an exception, or provide a default value\n",
        "\n",
        "# Concatenate the DataFrames\n",
        "bhai_data = pd.concat([cloud_warehouse_data, europe_sales_data, expense_iigf_data], axis=0, ignore_index=True)\n",
        "\n",
        "# Now you can perform operations on the combined data\n",
        "bhai_data.describe()\n",
        "bhai_data.head()"
      ],
      "metadata": {
        "colab": {
          "base_uri": "https://localhost:8080/",
          "height": 374
        },
        "id": "h_pmjA33dHw1",
        "outputId": "fe623bdc-0b36-4ab7-ccb1-42c18d414633"
      },
      "execution_count": 73,
      "outputs": [
        {
          "output_type": "execute_result",
          "data": {
            "text/plain": [
              "   index                        Shiprocket        Unnamed: 1  \\\n",
              "0    0.0                             Heads  Price (Per Unit)   \n",
              "1    1.0     Inbound (Fresh Stock and RTO)             ₹4.00   \n",
              "2    2.0                          Outbound             ₹7.00   \n",
              "3    3.0                   Storage Fee/Cft            ₹25.00   \n",
              "4    4.0  Customer Return with Detailed QC             ₹6.00   \n",
              "\n",
              "             INCREFF Region Country Item Type Sales Channel Order Priority  \\\n",
              "0   Price (Per Unit)    NaN     NaN       NaN           NaN            NaN   \n",
              "1                  4    NaN     NaN       NaN           NaN            NaN   \n",
              "2                 11    NaN     NaN       NaN           NaN            NaN   \n",
              "3  Rs 0.15/- Per Day    NaN     NaN       NaN           NaN            NaN   \n",
              "4               15.5    NaN     NaN       NaN           NaN            NaN   \n",
              "\n",
              "  Order Date  ...  Ship Date Units Sold  Unit Price  Unit Cost  Total Revenue  \\\n",
              "0        NaN  ...        NaN        NaN         NaN        NaN            NaN   \n",
              "1        NaN  ...        NaN        NaN         NaN        NaN            NaN   \n",
              "2        NaN  ...        NaN        NaN         NaN        NaN            NaN   \n",
              "3        NaN  ...        NaN        NaN         NaN        NaN            NaN   \n",
              "4        NaN  ...        NaN        NaN         NaN        NaN            NaN   \n",
              "\n",
              "   Total Cost  Total Profit  Recived Amount Expance Unnamed: 3  \n",
              "0         NaN           NaN             NaN     NaN        NaN  \n",
              "1         NaN           NaN             NaN     NaN        NaN  \n",
              "2         NaN           NaN             NaN     NaN        NaN  \n",
              "3         NaN           NaN             NaN     NaN        NaN  \n",
              "4         NaN           NaN             NaN     NaN        NaN  \n",
              "\n",
              "[5 rows x 21 columns]"
            ],
            "text/html": [
              "\n",
              "  <div id=\"df-5a3c9efd-2e44-42af-808c-0ef723e86e84\" class=\"colab-df-container\">\n",
              "    <div>\n",
              "<style scoped>\n",
              "    .dataframe tbody tr th:only-of-type {\n",
              "        vertical-align: middle;\n",
              "    }\n",
              "\n",
              "    .dataframe tbody tr th {\n",
              "        vertical-align: top;\n",
              "    }\n",
              "\n",
              "    .dataframe thead th {\n",
              "        text-align: right;\n",
              "    }\n",
              "</style>\n",
              "<table border=\"1\" class=\"dataframe\">\n",
              "  <thead>\n",
              "    <tr style=\"text-align: right;\">\n",
              "      <th></th>\n",
              "      <th>index</th>\n",
              "      <th>Shiprocket</th>\n",
              "      <th>Unnamed: 1</th>\n",
              "      <th>INCREFF</th>\n",
              "      <th>Region</th>\n",
              "      <th>Country</th>\n",
              "      <th>Item Type</th>\n",
              "      <th>Sales Channel</th>\n",
              "      <th>Order Priority</th>\n",
              "      <th>Order Date</th>\n",
              "      <th>...</th>\n",
              "      <th>Ship Date</th>\n",
              "      <th>Units Sold</th>\n",
              "      <th>Unit Price</th>\n",
              "      <th>Unit Cost</th>\n",
              "      <th>Total Revenue</th>\n",
              "      <th>Total Cost</th>\n",
              "      <th>Total Profit</th>\n",
              "      <th>Recived Amount</th>\n",
              "      <th>Expance</th>\n",
              "      <th>Unnamed: 3</th>\n",
              "    </tr>\n",
              "  </thead>\n",
              "  <tbody>\n",
              "    <tr>\n",
              "      <th>0</th>\n",
              "      <td>0.0</td>\n",
              "      <td>Heads</td>\n",
              "      <td>Price (Per Unit)</td>\n",
              "      <td>Price (Per Unit)</td>\n",
              "      <td>NaN</td>\n",
              "      <td>NaN</td>\n",
              "      <td>NaN</td>\n",
              "      <td>NaN</td>\n",
              "      <td>NaN</td>\n",
              "      <td>NaN</td>\n",
              "      <td>...</td>\n",
              "      <td>NaN</td>\n",
              "      <td>NaN</td>\n",
              "      <td>NaN</td>\n",
              "      <td>NaN</td>\n",
              "      <td>NaN</td>\n",
              "      <td>NaN</td>\n",
              "      <td>NaN</td>\n",
              "      <td>NaN</td>\n",
              "      <td>NaN</td>\n",
              "      <td>NaN</td>\n",
              "    </tr>\n",
              "    <tr>\n",
              "      <th>1</th>\n",
              "      <td>1.0</td>\n",
              "      <td>Inbound (Fresh Stock and RTO)</td>\n",
              "      <td>₹4.00</td>\n",
              "      <td>4</td>\n",
              "      <td>NaN</td>\n",
              "      <td>NaN</td>\n",
              "      <td>NaN</td>\n",
              "      <td>NaN</td>\n",
              "      <td>NaN</td>\n",
              "      <td>NaN</td>\n",
              "      <td>...</td>\n",
              "      <td>NaN</td>\n",
              "      <td>NaN</td>\n",
              "      <td>NaN</td>\n",
              "      <td>NaN</td>\n",
              "      <td>NaN</td>\n",
              "      <td>NaN</td>\n",
              "      <td>NaN</td>\n",
              "      <td>NaN</td>\n",
              "      <td>NaN</td>\n",
              "      <td>NaN</td>\n",
              "    </tr>\n",
              "    <tr>\n",
              "      <th>2</th>\n",
              "      <td>2.0</td>\n",
              "      <td>Outbound</td>\n",
              "      <td>₹7.00</td>\n",
              "      <td>11</td>\n",
              "      <td>NaN</td>\n",
              "      <td>NaN</td>\n",
              "      <td>NaN</td>\n",
              "      <td>NaN</td>\n",
              "      <td>NaN</td>\n",
              "      <td>NaN</td>\n",
              "      <td>...</td>\n",
              "      <td>NaN</td>\n",
              "      <td>NaN</td>\n",
              "      <td>NaN</td>\n",
              "      <td>NaN</td>\n",
              "      <td>NaN</td>\n",
              "      <td>NaN</td>\n",
              "      <td>NaN</td>\n",
              "      <td>NaN</td>\n",
              "      <td>NaN</td>\n",
              "      <td>NaN</td>\n",
              "    </tr>\n",
              "    <tr>\n",
              "      <th>3</th>\n",
              "      <td>3.0</td>\n",
              "      <td>Storage Fee/Cft</td>\n",
              "      <td>₹25.00</td>\n",
              "      <td>Rs 0.15/- Per Day</td>\n",
              "      <td>NaN</td>\n",
              "      <td>NaN</td>\n",
              "      <td>NaN</td>\n",
              "      <td>NaN</td>\n",
              "      <td>NaN</td>\n",
              "      <td>NaN</td>\n",
              "      <td>...</td>\n",
              "      <td>NaN</td>\n",
              "      <td>NaN</td>\n",
              "      <td>NaN</td>\n",
              "      <td>NaN</td>\n",
              "      <td>NaN</td>\n",
              "      <td>NaN</td>\n",
              "      <td>NaN</td>\n",
              "      <td>NaN</td>\n",
              "      <td>NaN</td>\n",
              "      <td>NaN</td>\n",
              "    </tr>\n",
              "    <tr>\n",
              "      <th>4</th>\n",
              "      <td>4.0</td>\n",
              "      <td>Customer Return with Detailed QC</td>\n",
              "      <td>₹6.00</td>\n",
              "      <td>15.5</td>\n",
              "      <td>NaN</td>\n",
              "      <td>NaN</td>\n",
              "      <td>NaN</td>\n",
              "      <td>NaN</td>\n",
              "      <td>NaN</td>\n",
              "      <td>NaN</td>\n",
              "      <td>...</td>\n",
              "      <td>NaN</td>\n",
              "      <td>NaN</td>\n",
              "      <td>NaN</td>\n",
              "      <td>NaN</td>\n",
              "      <td>NaN</td>\n",
              "      <td>NaN</td>\n",
              "      <td>NaN</td>\n",
              "      <td>NaN</td>\n",
              "      <td>NaN</td>\n",
              "      <td>NaN</td>\n",
              "    </tr>\n",
              "  </tbody>\n",
              "</table>\n",
              "<p>5 rows × 21 columns</p>\n",
              "</div>\n",
              "    <div class=\"colab-df-buttons\">\n",
              "\n",
              "  <div class=\"colab-df-container\">\n",
              "    <button class=\"colab-df-convert\" onclick=\"convertToInteractive('df-5a3c9efd-2e44-42af-808c-0ef723e86e84')\"\n",
              "            title=\"Convert this dataframe to an interactive table.\"\n",
              "            style=\"display:none;\">\n",
              "\n",
              "  <svg xmlns=\"http://www.w3.org/2000/svg\" height=\"24px\" viewBox=\"0 -960 960 960\">\n",
              "    <path d=\"M120-120v-720h720v720H120Zm60-500h600v-160H180v160Zm220 220h160v-160H400v160Zm0 220h160v-160H400v160ZM180-400h160v-160H180v160Zm440 0h160v-160H620v160ZM180-180h160v-160H180v160Zm440 0h160v-160H620v160Z\"/>\n",
              "  </svg>\n",
              "    </button>\n",
              "\n",
              "  <style>\n",
              "    .colab-df-container {\n",
              "      display:flex;\n",
              "      gap: 12px;\n",
              "    }\n",
              "\n",
              "    .colab-df-convert {\n",
              "      background-color: #E8F0FE;\n",
              "      border: none;\n",
              "      border-radius: 50%;\n",
              "      cursor: pointer;\n",
              "      display: none;\n",
              "      fill: #1967D2;\n",
              "      height: 32px;\n",
              "      padding: 0 0 0 0;\n",
              "      width: 32px;\n",
              "    }\n",
              "\n",
              "    .colab-df-convert:hover {\n",
              "      background-color: #E2EBFA;\n",
              "      box-shadow: 0px 1px 2px rgba(60, 64, 67, 0.3), 0px 1px 3px 1px rgba(60, 64, 67, 0.15);\n",
              "      fill: #174EA6;\n",
              "    }\n",
              "\n",
              "    .colab-df-buttons div {\n",
              "      margin-bottom: 4px;\n",
              "    }\n",
              "\n",
              "    [theme=dark] .colab-df-convert {\n",
              "      background-color: #3B4455;\n",
              "      fill: #D2E3FC;\n",
              "    }\n",
              "\n",
              "    [theme=dark] .colab-df-convert:hover {\n",
              "      background-color: #434B5C;\n",
              "      box-shadow: 0px 1px 3px 1px rgba(0, 0, 0, 0.15);\n",
              "      filter: drop-shadow(0px 1px 2px rgba(0, 0, 0, 0.3));\n",
              "      fill: #FFFFFF;\n",
              "    }\n",
              "  </style>\n",
              "\n",
              "    <script>\n",
              "      const buttonEl =\n",
              "        document.querySelector('#df-5a3c9efd-2e44-42af-808c-0ef723e86e84 button.colab-df-convert');\n",
              "      buttonEl.style.display =\n",
              "        google.colab.kernel.accessAllowed ? 'block' : 'none';\n",
              "\n",
              "      async function convertToInteractive(key) {\n",
              "        const element = document.querySelector('#df-5a3c9efd-2e44-42af-808c-0ef723e86e84');\n",
              "        const dataTable =\n",
              "          await google.colab.kernel.invokeFunction('convertToInteractive',\n",
              "                                                    [key], {});\n",
              "        if (!dataTable) return;\n",
              "\n",
              "        const docLinkHtml = 'Like what you see? Visit the ' +\n",
              "          '<a target=\"_blank\" href=https://colab.research.google.com/notebooks/data_table.ipynb>data table notebook</a>'\n",
              "          + ' to learn more about interactive tables.';\n",
              "        element.innerHTML = '';\n",
              "        dataTable['output_type'] = 'display_data';\n",
              "        await google.colab.output.renderOutput(dataTable, element);\n",
              "        const docLink = document.createElement('div');\n",
              "        docLink.innerHTML = docLinkHtml;\n",
              "        element.appendChild(docLink);\n",
              "      }\n",
              "    </script>\n",
              "  </div>\n",
              "\n",
              "\n",
              "<div id=\"df-511202c0-a15a-4237-8362-91c87679714c\">\n",
              "  <button class=\"colab-df-quickchart\" onclick=\"quickchart('df-511202c0-a15a-4237-8362-91c87679714c')\"\n",
              "            title=\"Suggest charts\"\n",
              "            style=\"display:none;\">\n",
              "\n",
              "<svg xmlns=\"http://www.w3.org/2000/svg\" height=\"24px\"viewBox=\"0 0 24 24\"\n",
              "     width=\"24px\">\n",
              "    <g>\n",
              "        <path d=\"M19 3H5c-1.1 0-2 .9-2 2v14c0 1.1.9 2 2 2h14c1.1 0 2-.9 2-2V5c0-1.1-.9-2-2-2zM9 17H7v-7h2v7zm4 0h-2V7h2v10zm4 0h-2v-4h2v4z\"/>\n",
              "    </g>\n",
              "</svg>\n",
              "  </button>\n",
              "\n",
              "<style>\n",
              "  .colab-df-quickchart {\n",
              "      --bg-color: #E8F0FE;\n",
              "      --fill-color: #1967D2;\n",
              "      --hover-bg-color: #E2EBFA;\n",
              "      --hover-fill-color: #174EA6;\n",
              "      --disabled-fill-color: #AAA;\n",
              "      --disabled-bg-color: #DDD;\n",
              "  }\n",
              "\n",
              "  [theme=dark] .colab-df-quickchart {\n",
              "      --bg-color: #3B4455;\n",
              "      --fill-color: #D2E3FC;\n",
              "      --hover-bg-color: #434B5C;\n",
              "      --hover-fill-color: #FFFFFF;\n",
              "      --disabled-bg-color: #3B4455;\n",
              "      --disabled-fill-color: #666;\n",
              "  }\n",
              "\n",
              "  .colab-df-quickchart {\n",
              "    background-color: var(--bg-color);\n",
              "    border: none;\n",
              "    border-radius: 50%;\n",
              "    cursor: pointer;\n",
              "    display: none;\n",
              "    fill: var(--fill-color);\n",
              "    height: 32px;\n",
              "    padding: 0;\n",
              "    width: 32px;\n",
              "  }\n",
              "\n",
              "  .colab-df-quickchart:hover {\n",
              "    background-color: var(--hover-bg-color);\n",
              "    box-shadow: 0 1px 2px rgba(60, 64, 67, 0.3), 0 1px 3px 1px rgba(60, 64, 67, 0.15);\n",
              "    fill: var(--button-hover-fill-color);\n",
              "  }\n",
              "\n",
              "  .colab-df-quickchart-complete:disabled,\n",
              "  .colab-df-quickchart-complete:disabled:hover {\n",
              "    background-color: var(--disabled-bg-color);\n",
              "    fill: var(--disabled-fill-color);\n",
              "    box-shadow: none;\n",
              "  }\n",
              "\n",
              "  .colab-df-spinner {\n",
              "    border: 2px solid var(--fill-color);\n",
              "    border-color: transparent;\n",
              "    border-bottom-color: var(--fill-color);\n",
              "    animation:\n",
              "      spin 1s steps(1) infinite;\n",
              "  }\n",
              "\n",
              "  @keyframes spin {\n",
              "    0% {\n",
              "      border-color: transparent;\n",
              "      border-bottom-color: var(--fill-color);\n",
              "      border-left-color: var(--fill-color);\n",
              "    }\n",
              "    20% {\n",
              "      border-color: transparent;\n",
              "      border-left-color: var(--fill-color);\n",
              "      border-top-color: var(--fill-color);\n",
              "    }\n",
              "    30% {\n",
              "      border-color: transparent;\n",
              "      border-left-color: var(--fill-color);\n",
              "      border-top-color: var(--fill-color);\n",
              "      border-right-color: var(--fill-color);\n",
              "    }\n",
              "    40% {\n",
              "      border-color: transparent;\n",
              "      border-right-color: var(--fill-color);\n",
              "      border-top-color: var(--fill-color);\n",
              "    }\n",
              "    60% {\n",
              "      border-color: transparent;\n",
              "      border-right-color: var(--fill-color);\n",
              "    }\n",
              "    80% {\n",
              "      border-color: transparent;\n",
              "      border-right-color: var(--fill-color);\n",
              "      border-bottom-color: var(--fill-color);\n",
              "    }\n",
              "    90% {\n",
              "      border-color: transparent;\n",
              "      border-bottom-color: var(--fill-color);\n",
              "    }\n",
              "  }\n",
              "</style>\n",
              "\n",
              "  <script>\n",
              "    async function quickchart(key) {\n",
              "      const quickchartButtonEl =\n",
              "        document.querySelector('#' + key + ' button');\n",
              "      quickchartButtonEl.disabled = true;  // To prevent multiple clicks.\n",
              "      quickchartButtonEl.classList.add('colab-df-spinner');\n",
              "      try {\n",
              "        const charts = await google.colab.kernel.invokeFunction(\n",
              "            'suggestCharts', [key], {});\n",
              "      } catch (error) {\n",
              "        console.error('Error during call to suggestCharts:', error);\n",
              "      }\n",
              "      quickchartButtonEl.classList.remove('colab-df-spinner');\n",
              "      quickchartButtonEl.classList.add('colab-df-quickchart-complete');\n",
              "    }\n",
              "    (() => {\n",
              "      let quickchartButtonEl =\n",
              "        document.querySelector('#df-511202c0-a15a-4237-8362-91c87679714c button');\n",
              "      quickchartButtonEl.style.display =\n",
              "        google.colab.kernel.accessAllowed ? 'block' : 'none';\n",
              "    })();\n",
              "  </script>\n",
              "</div>\n",
              "\n",
              "    </div>\n",
              "  </div>\n"
            ],
            "application/vnd.google.colaboratory.intrinsic+json": {
              "type": "dataframe",
              "variable_name": "bhai_data"
            }
          },
          "metadata": {},
          "execution_count": 73
        }
      ]
    },
    {
      "cell_type": "code",
      "source": [
        "bhai_data.info()"
      ],
      "metadata": {
        "colab": {
          "base_uri": "https://localhost:8080/"
        },
        "id": "KZR_v_9YdRKo",
        "outputId": "fbd54293-4003-421e-9cab-cd460ec81501"
      },
      "execution_count": 74,
      "outputs": [
        {
          "output_type": "stream",
          "name": "stdout",
          "text": [
            "<class 'pandas.core.frame.DataFrame'>\n",
            "RangeIndex: 1397 entries, 0 to 1396\n",
            "Data columns (total 21 columns):\n",
            " #   Column          Non-Null Count  Dtype  \n",
            "---  ------          --------------  -----  \n",
            " 0   index           67 non-null     float64\n",
            " 1   Shiprocket      21 non-null     object \n",
            " 2   Unnamed: 1      47 non-null     object \n",
            " 3   INCREFF         28 non-null     object \n",
            " 4   Region          1330 non-null   object \n",
            " 5   Country         1330 non-null   object \n",
            " 6   Item Type       1330 non-null   object \n",
            " 7   Sales Channel   1330 non-null   object \n",
            " 8   Order Priority  1330 non-null   object \n",
            " 9   Order Date      1330 non-null   object \n",
            " 10  Order ID        1330 non-null   float64\n",
            " 11  Ship Date       1330 non-null   object \n",
            " 12  Units Sold      1330 non-null   float64\n",
            " 13  Unit Price      1330 non-null   float64\n",
            " 14  Unit Cost       1330 non-null   float64\n",
            " 15  Total Revenue   1330 non-null   float64\n",
            " 16  Total Cost      1330 non-null   float64\n",
            " 17  Total Profit    1330 non-null   float64\n",
            " 18  Recived Amount  6 non-null      object \n",
            " 19  Expance         15 non-null     object \n",
            " 20  Unnamed: 3      17 non-null     object \n",
            "dtypes: float64(8), object(13)\n",
            "memory usage: 229.3+ KB\n"
          ]
        }
      ]
    },
    {
      "cell_type": "code",
      "source": [
        "bhai_data.shape"
      ],
      "metadata": {
        "colab": {
          "base_uri": "https://localhost:8080/"
        },
        "id": "_GSo7sFweoot",
        "outputId": "982b6514-5e46-4ccf-f52e-61ab1c8f1170"
      },
      "execution_count": 75,
      "outputs": [
        {
          "output_type": "execute_result",
          "data": {
            "text/plain": [
              "(1397, 21)"
            ]
          },
          "metadata": {},
          "execution_count": 75
        }
      ]
    },
    {
      "cell_type": "code",
      "source": [
        "bhai_data.columns"
      ],
      "metadata": {
        "colab": {
          "base_uri": "https://localhost:8080/"
        },
        "id": "T-6STRCQey-Z",
        "outputId": "b38006de-37dd-4df8-84cf-c50eb16364eb"
      },
      "execution_count": 76,
      "outputs": [
        {
          "output_type": "execute_result",
          "data": {
            "text/plain": [
              "Index(['index', 'Shiprocket', 'Unnamed: 1', 'INCREFF', 'Region', 'Country',\n",
              "       'Item Type', 'Sales Channel', 'Order Priority', 'Order Date',\n",
              "       'Order ID', 'Ship Date', 'Units Sold', 'Unit Price', 'Unit Cost',\n",
              "       'Total Revenue', 'Total Cost', 'Total Profit', 'Recived Amount',\n",
              "       'Expance', 'Unnamed: 3'],\n",
              "      dtype='object')"
            ]
          },
          "metadata": {},
          "execution_count": 76
        }
      ]
    },
    {
      "cell_type": "markdown",
      "source": [
        "# **  Data Cleaning performing the addition of data and filling the missing values by applying the data techniques**"
      ],
      "metadata": {
        "id": "6U00kybafUuq"
      }
    },
    {
      "cell_type": "code",
      "source": [
        "bhai_data.isnull().sum()"
      ],
      "metadata": {
        "colab": {
          "base_uri": "https://localhost:8080/",
          "height": 742
        },
        "id": "XznpsDtfe9gU",
        "outputId": "ac36f507-545d-4626-c950-1516c670f83b"
      },
      "execution_count": 77,
      "outputs": [
        {
          "output_type": "execute_result",
          "data": {
            "text/plain": [
              "index             1330\n",
              "Shiprocket        1376\n",
              "Unnamed: 1        1350\n",
              "INCREFF           1369\n",
              "Region              67\n",
              "Country             67\n",
              "Item Type           67\n",
              "Sales Channel       67\n",
              "Order Priority      67\n",
              "Order Date          67\n",
              "Order ID            67\n",
              "Ship Date           67\n",
              "Units Sold          67\n",
              "Unit Price          67\n",
              "Unit Cost           67\n",
              "Total Revenue       67\n",
              "Total Cost          67\n",
              "Total Profit        67\n",
              "Recived Amount    1391\n",
              "Expance           1382\n",
              "Unnamed: 3        1380\n",
              "dtype: int64"
            ],
            "text/html": [
              "<div>\n",
              "<style scoped>\n",
              "    .dataframe tbody tr th:only-of-type {\n",
              "        vertical-align: middle;\n",
              "    }\n",
              "\n",
              "    .dataframe tbody tr th {\n",
              "        vertical-align: top;\n",
              "    }\n",
              "\n",
              "    .dataframe thead th {\n",
              "        text-align: right;\n",
              "    }\n",
              "</style>\n",
              "<table border=\"1\" class=\"dataframe\">\n",
              "  <thead>\n",
              "    <tr style=\"text-align: right;\">\n",
              "      <th></th>\n",
              "      <th>0</th>\n",
              "    </tr>\n",
              "  </thead>\n",
              "  <tbody>\n",
              "    <tr>\n",
              "      <th>index</th>\n",
              "      <td>1330</td>\n",
              "    </tr>\n",
              "    <tr>\n",
              "      <th>Shiprocket</th>\n",
              "      <td>1376</td>\n",
              "    </tr>\n",
              "    <tr>\n",
              "      <th>Unnamed: 1</th>\n",
              "      <td>1350</td>\n",
              "    </tr>\n",
              "    <tr>\n",
              "      <th>INCREFF</th>\n",
              "      <td>1369</td>\n",
              "    </tr>\n",
              "    <tr>\n",
              "      <th>Region</th>\n",
              "      <td>67</td>\n",
              "    </tr>\n",
              "    <tr>\n",
              "      <th>Country</th>\n",
              "      <td>67</td>\n",
              "    </tr>\n",
              "    <tr>\n",
              "      <th>Item Type</th>\n",
              "      <td>67</td>\n",
              "    </tr>\n",
              "    <tr>\n",
              "      <th>Sales Channel</th>\n",
              "      <td>67</td>\n",
              "    </tr>\n",
              "    <tr>\n",
              "      <th>Order Priority</th>\n",
              "      <td>67</td>\n",
              "    </tr>\n",
              "    <tr>\n",
              "      <th>Order Date</th>\n",
              "      <td>67</td>\n",
              "    </tr>\n",
              "    <tr>\n",
              "      <th>Order ID</th>\n",
              "      <td>67</td>\n",
              "    </tr>\n",
              "    <tr>\n",
              "      <th>Ship Date</th>\n",
              "      <td>67</td>\n",
              "    </tr>\n",
              "    <tr>\n",
              "      <th>Units Sold</th>\n",
              "      <td>67</td>\n",
              "    </tr>\n",
              "    <tr>\n",
              "      <th>Unit Price</th>\n",
              "      <td>67</td>\n",
              "    </tr>\n",
              "    <tr>\n",
              "      <th>Unit Cost</th>\n",
              "      <td>67</td>\n",
              "    </tr>\n",
              "    <tr>\n",
              "      <th>Total Revenue</th>\n",
              "      <td>67</td>\n",
              "    </tr>\n",
              "    <tr>\n",
              "      <th>Total Cost</th>\n",
              "      <td>67</td>\n",
              "    </tr>\n",
              "    <tr>\n",
              "      <th>Total Profit</th>\n",
              "      <td>67</td>\n",
              "    </tr>\n",
              "    <tr>\n",
              "      <th>Recived Amount</th>\n",
              "      <td>1391</td>\n",
              "    </tr>\n",
              "    <tr>\n",
              "      <th>Expance</th>\n",
              "      <td>1382</td>\n",
              "    </tr>\n",
              "    <tr>\n",
              "      <th>Unnamed: 3</th>\n",
              "      <td>1380</td>\n",
              "    </tr>\n",
              "  </tbody>\n",
              "</table>\n",
              "</div><br><label><b>dtype:</b> int64</label>"
            ]
          },
          "metadata": {},
          "execution_count": 77
        }
      ]
    },
    {
      "cell_type": "code",
      "source": [
        "bhai_data.duplicated().sum()"
      ],
      "metadata": {
        "colab": {
          "base_uri": "https://localhost:8080/"
        },
        "id": "oHD2O8Jbfmxu",
        "outputId": "b35d3ec3-0594-45cd-d912-d424bfc67a0a"
      },
      "execution_count": 78,
      "outputs": [
        {
          "output_type": "execute_result",
          "data": {
            "text/plain": [
              "0"
            ]
          },
          "metadata": {},
          "execution_count": 78
        }
      ]
    },
    {
      "cell_type": "code",
      "source": [
        "bhai_data.drop_duplicates(inplace=True)"
      ],
      "metadata": {
        "id": "EyBsdNiJfrKV"
      },
      "execution_count": 79,
      "outputs": []
    },
    {
      "cell_type": "code",
      "source": [
        "bhai_data.fillna(0, inplace=True)"
      ],
      "metadata": {
        "id": "5x6z9Py3fwsJ"
      },
      "execution_count": 80,
      "outputs": []
    },
    {
      "cell_type": "code",
      "source": [
        "bhai_data.dropna(inplace=True)"
      ],
      "metadata": {
        "id": "AvPZ-jv1jtvC"
      },
      "execution_count": 81,
      "outputs": []
    },
    {
      "cell_type": "code",
      "source": [
        "bhai_data.isnull().sum()"
      ],
      "metadata": {
        "colab": {
          "base_uri": "https://localhost:8080/",
          "height": 742
        },
        "id": "fpcrh0O_kDKS",
        "outputId": "f0811e0d-3e48-4e75-d86c-684ab414c5fa"
      },
      "execution_count": 82,
      "outputs": [
        {
          "output_type": "execute_result",
          "data": {
            "text/plain": [
              "index             0\n",
              "Shiprocket        0\n",
              "Unnamed: 1        0\n",
              "INCREFF           0\n",
              "Region            0\n",
              "Country           0\n",
              "Item Type         0\n",
              "Sales Channel     0\n",
              "Order Priority    0\n",
              "Order Date        0\n",
              "Order ID          0\n",
              "Ship Date         0\n",
              "Units Sold        0\n",
              "Unit Price        0\n",
              "Unit Cost         0\n",
              "Total Revenue     0\n",
              "Total Cost        0\n",
              "Total Profit      0\n",
              "Recived Amount    0\n",
              "Expance           0\n",
              "Unnamed: 3        0\n",
              "dtype: int64"
            ],
            "text/html": [
              "<div>\n",
              "<style scoped>\n",
              "    .dataframe tbody tr th:only-of-type {\n",
              "        vertical-align: middle;\n",
              "    }\n",
              "\n",
              "    .dataframe tbody tr th {\n",
              "        vertical-align: top;\n",
              "    }\n",
              "\n",
              "    .dataframe thead th {\n",
              "        text-align: right;\n",
              "    }\n",
              "</style>\n",
              "<table border=\"1\" class=\"dataframe\">\n",
              "  <thead>\n",
              "    <tr style=\"text-align: right;\">\n",
              "      <th></th>\n",
              "      <th>0</th>\n",
              "    </tr>\n",
              "  </thead>\n",
              "  <tbody>\n",
              "    <tr>\n",
              "      <th>index</th>\n",
              "      <td>0</td>\n",
              "    </tr>\n",
              "    <tr>\n",
              "      <th>Shiprocket</th>\n",
              "      <td>0</td>\n",
              "    </tr>\n",
              "    <tr>\n",
              "      <th>Unnamed: 1</th>\n",
              "      <td>0</td>\n",
              "    </tr>\n",
              "    <tr>\n",
              "      <th>INCREFF</th>\n",
              "      <td>0</td>\n",
              "    </tr>\n",
              "    <tr>\n",
              "      <th>Region</th>\n",
              "      <td>0</td>\n",
              "    </tr>\n",
              "    <tr>\n",
              "      <th>Country</th>\n",
              "      <td>0</td>\n",
              "    </tr>\n",
              "    <tr>\n",
              "      <th>Item Type</th>\n",
              "      <td>0</td>\n",
              "    </tr>\n",
              "    <tr>\n",
              "      <th>Sales Channel</th>\n",
              "      <td>0</td>\n",
              "    </tr>\n",
              "    <tr>\n",
              "      <th>Order Priority</th>\n",
              "      <td>0</td>\n",
              "    </tr>\n",
              "    <tr>\n",
              "      <th>Order Date</th>\n",
              "      <td>0</td>\n",
              "    </tr>\n",
              "    <tr>\n",
              "      <th>Order ID</th>\n",
              "      <td>0</td>\n",
              "    </tr>\n",
              "    <tr>\n",
              "      <th>Ship Date</th>\n",
              "      <td>0</td>\n",
              "    </tr>\n",
              "    <tr>\n",
              "      <th>Units Sold</th>\n",
              "      <td>0</td>\n",
              "    </tr>\n",
              "    <tr>\n",
              "      <th>Unit Price</th>\n",
              "      <td>0</td>\n",
              "    </tr>\n",
              "    <tr>\n",
              "      <th>Unit Cost</th>\n",
              "      <td>0</td>\n",
              "    </tr>\n",
              "    <tr>\n",
              "      <th>Total Revenue</th>\n",
              "      <td>0</td>\n",
              "    </tr>\n",
              "    <tr>\n",
              "      <th>Total Cost</th>\n",
              "      <td>0</td>\n",
              "    </tr>\n",
              "    <tr>\n",
              "      <th>Total Profit</th>\n",
              "      <td>0</td>\n",
              "    </tr>\n",
              "    <tr>\n",
              "      <th>Recived Amount</th>\n",
              "      <td>0</td>\n",
              "    </tr>\n",
              "    <tr>\n",
              "      <th>Expance</th>\n",
              "      <td>0</td>\n",
              "    </tr>\n",
              "    <tr>\n",
              "      <th>Unnamed: 3</th>\n",
              "      <td>0</td>\n",
              "    </tr>\n",
              "  </tbody>\n",
              "</table>\n",
              "</div><br><label><b>dtype:</b> int64</label>"
            ]
          },
          "metadata": {},
          "execution_count": 82
        }
      ]
    },
    {
      "cell_type": "code",
      "source": [
        "bhai_data.describe()\n",
        "bhai_data.info()"
      ],
      "metadata": {
        "colab": {
          "base_uri": "https://localhost:8080/"
        },
        "id": "gner1hEUkJu1",
        "outputId": "4a1b2be0-e0ed-4eae-b5c4-9af5455dac0e"
      },
      "execution_count": 83,
      "outputs": [
        {
          "output_type": "stream",
          "name": "stdout",
          "text": [
            "<class 'pandas.core.frame.DataFrame'>\n",
            "RangeIndex: 1397 entries, 0 to 1396\n",
            "Data columns (total 21 columns):\n",
            " #   Column          Non-Null Count  Dtype  \n",
            "---  ------          --------------  -----  \n",
            " 0   index           1397 non-null   float64\n",
            " 1   Shiprocket      1397 non-null   object \n",
            " 2   Unnamed: 1      1397 non-null   object \n",
            " 3   INCREFF         1397 non-null   object \n",
            " 4   Region          1397 non-null   object \n",
            " 5   Country         1397 non-null   object \n",
            " 6   Item Type       1397 non-null   object \n",
            " 7   Sales Channel   1397 non-null   object \n",
            " 8   Order Priority  1397 non-null   object \n",
            " 9   Order Date      1397 non-null   object \n",
            " 10  Order ID        1397 non-null   float64\n",
            " 11  Ship Date       1397 non-null   object \n",
            " 12  Units Sold      1397 non-null   float64\n",
            " 13  Unit Price      1397 non-null   float64\n",
            " 14  Unit Cost       1397 non-null   float64\n",
            " 15  Total Revenue   1397 non-null   float64\n",
            " 16  Total Cost      1397 non-null   float64\n",
            " 17  Total Profit    1397 non-null   float64\n",
            " 18  Recived Amount  1397 non-null   object \n",
            " 19  Expance         1397 non-null   object \n",
            " 20  Unnamed: 3      1397 non-null   object \n",
            "dtypes: float64(8), object(13)\n",
            "memory usage: 229.3+ KB\n"
          ]
        }
      ]
    },
    {
      "cell_type": "code",
      "source": [
        "bhai_data.shape\n"
      ],
      "metadata": {
        "colab": {
          "base_uri": "https://localhost:8080/"
        },
        "id": "JYh8tRjPkelm",
        "outputId": "b35f327b-2fb8-49c2-caf1-56bc3747dfe3"
      },
      "execution_count": 84,
      "outputs": [
        {
          "output_type": "execute_result",
          "data": {
            "text/plain": [
              "(1397, 21)"
            ]
          },
          "metadata": {},
          "execution_count": 84
        }
      ]
    },
    {
      "cell_type": "code",
      "source": [
        "bhai_data['Index'] = bhai_data['index'].fillna(0)"
      ],
      "metadata": {
        "id": "WOTjQ5BMlvdw"
      },
      "execution_count": 85,
      "outputs": []
    },
    {
      "cell_type": "code",
      "source": [
        "print(bhai_data.isnull().sum())"
      ],
      "metadata": {
        "colab": {
          "base_uri": "https://localhost:8080/"
        },
        "id": "DaKysYzNl7ab",
        "outputId": "80070880-ec45-406c-fd74-4adc6e5c999c"
      },
      "execution_count": 86,
      "outputs": [
        {
          "output_type": "stream",
          "name": "stdout",
          "text": [
            "index             0\n",
            "Shiprocket        0\n",
            "Unnamed: 1        0\n",
            "INCREFF           0\n",
            "Region            0\n",
            "Country           0\n",
            "Item Type         0\n",
            "Sales Channel     0\n",
            "Order Priority    0\n",
            "Order Date        0\n",
            "Order ID          0\n",
            "Ship Date         0\n",
            "Units Sold        0\n",
            "Unit Price        0\n",
            "Unit Cost         0\n",
            "Total Revenue     0\n",
            "Total Cost        0\n",
            "Total Profit      0\n",
            "Recived Amount    0\n",
            "Expance           0\n",
            "Unnamed: 3        0\n",
            "Index             0\n",
            "dtype: int64\n"
          ]
        }
      ]
    },
    {
      "cell_type": "markdown",
      "source": [
        "# Now we have to check the the data of above csv that we are done the right operation for cleaning and filling the missing values in the data"
      ],
      "metadata": {
        "id": "CXj2ITSmmelU"
      }
    },
    {
      "cell_type": "code",
      "source": [
        "nan_counts = bhai_data.isna().sum()\n",
        "print(\"Count of NaN values in each column:\")\n",
        "print(nan_counts)\n"
      ],
      "metadata": {
        "colab": {
          "base_uri": "https://localhost:8080/"
        },
        "id": "R1LF-Dfynenc",
        "outputId": "eb94aa89-cc81-41a0-bd0b-2d89231b8ac9"
      },
      "execution_count": 87,
      "outputs": [
        {
          "output_type": "stream",
          "name": "stdout",
          "text": [
            "Count of NaN values in each column:\n",
            "index             0\n",
            "Shiprocket        0\n",
            "Unnamed: 1        0\n",
            "INCREFF           0\n",
            "Region            0\n",
            "Country           0\n",
            "Item Type         0\n",
            "Sales Channel     0\n",
            "Order Priority    0\n",
            "Order Date        0\n",
            "Order ID          0\n",
            "Ship Date         0\n",
            "Units Sold        0\n",
            "Unit Price        0\n",
            "Unit Cost         0\n",
            "Total Revenue     0\n",
            "Total Cost        0\n",
            "Total Profit      0\n",
            "Recived Amount    0\n",
            "Expance           0\n",
            "Unnamed: 3        0\n",
            "Index             0\n",
            "dtype: int64\n"
          ]
        }
      ]
    }
  ]
}